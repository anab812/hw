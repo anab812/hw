{
  "nbformat": 4,
  "nbformat_minor": 0,
  "metadata": {
    "colab": {
      "name": "math_5_HW.ipynb",
      "provenance": []
    },
    "kernelspec": {
      "name": "python3",
      "display_name": "Python 3"
    }
  },
  "cells": [
    {
      "cell_type": "code",
      "metadata": {
        "id": "xPvvc4EklDNT"
      },
      "source": [
        "import numpy as np"
      ],
      "execution_count": 1,
      "outputs": []
    },
    {
      "cell_type": "code",
      "metadata": {
        "id": "T_NC2mbaACIm"
      },
      "source": [
        "import sympy"
      ],
      "execution_count": 14,
      "outputs": []
    },
    {
      "cell_type": "code",
      "metadata": {
        "id": "a86huzvrifpM"
      },
      "source": [
        "from sympy import symbols, diff"
      ],
      "execution_count": 8,
      "outputs": []
    },
    {
      "cell_type": "code",
      "metadata": {
        "id": "3XUMbOY18jl9"
      },
      "source": [
        "from scipy.misc import derivative"
      ],
      "execution_count": 9,
      "outputs": []
    },
    {
      "cell_type": "code",
      "metadata": {
        "id": "tCJ46bex3_It"
      },
      "source": [
        "from scipy import optimize"
      ],
      "execution_count": 10,
      "outputs": []
    },
    {
      "cell_type": "code",
      "metadata": {
        "id": "6MR1J8bG--Ak"
      },
      "source": [
        "from scipy.optimize import approx_fprime"
      ],
      "execution_count": 11,
      "outputs": []
    },
    {
      "cell_type": "markdown",
      "metadata": {
        "id": "G5AhDaIzAVk_"
      },
      "source": [
        "**Уровень 0**"
      ]
    },
    {
      "cell_type": "code",
      "metadata": {
        "id": "psvOsVjzimSd"
      },
      "source": [
        "def f_1(x, y):\r\n",
        "  return np.sum(2*(x**2)*(y**3) + 1/x + (y**2)*x + 7)\r\n",
        "\r\n",
        "def f2(x,y):\r\n",
        "  return x**2*y - np.sin(x*y) + np.cos(x**2) + 6*y\r\n"
      ],
      "execution_count": 12,
      "outputs": []
    },
    {
      "cell_type": "markdown",
      "metadata": {
        "id": "m2fUh_ZPAMJy"
      },
      "source": [
        "**частные производные**"
      ]
    },
    {
      "cell_type": "code",
      "metadata": {
        "id": "kKhQi0gC6Mbp"
      },
      "source": [
        "x, y = sympy.symbols('x, y')"
      ],
      "execution_count": 15,
      "outputs": []
    },
    {
      "cell_type": "code",
      "metadata": {
        "id": "vhNlHMPj-H7t"
      },
      "source": [
        "f1 = 2*(x**2)*(y**3) + 1/x + (y**2)*x + 7"
      ],
      "execution_count": 16,
      "outputs": []
    },
    {
      "cell_type": "code",
      "metadata": {
        "id": "bnCXcYsQ-Pu3"
      },
      "source": [
        "f2 = x**2*y - sympy.sin(x*y) + sympy.cos(x**2) + 6*y"
      ],
      "execution_count": 17,
      "outputs": []
    },
    {
      "cell_type": "code",
      "metadata": {
        "colab": {
          "base_uri": "https://localhost:8080/"
        },
        "id": "JrV4TPV-86OZ",
        "outputId": "630938b3-85a2-4092-adaf-2335cddd06f9"
      },
      "source": [
        "sympy.diff(f1, x)"
      ],
      "execution_count": 18,
      "outputs": [
        {
          "output_type": "execute_result",
          "data": {
            "text/plain": [
              "4*x*y**3 + y**2 - 1/x**2"
            ]
          },
          "metadata": {
            "tags": []
          },
          "execution_count": 18
        }
      ]
    },
    {
      "cell_type": "code",
      "metadata": {
        "colab": {
          "base_uri": "https://localhost:8080/"
        },
        "id": "zm66_p9C-PGi",
        "outputId": "74dae249-1b91-43b5-aaa7-8e9c3f4bee83"
      },
      "source": [
        "sympy.diff(f1, y)"
      ],
      "execution_count": 19,
      "outputs": [
        {
          "output_type": "execute_result",
          "data": {
            "text/plain": [
              "6*x**2*y**2 + 2*x*y"
            ]
          },
          "metadata": {
            "tags": []
          },
          "execution_count": 19
        }
      ]
    },
    {
      "cell_type": "code",
      "metadata": {
        "colab": {
          "base_uri": "https://localhost:8080/"
        },
        "id": "R415-wiK-zSg",
        "outputId": "05660274-30bb-46d3-c305-4c085a46ddba"
      },
      "source": [
        "sympy.diff(f2, x)"
      ],
      "execution_count": 20,
      "outputs": [
        {
          "output_type": "execute_result",
          "data": {
            "text/plain": [
              "2*x*y - 2*x*sin(x**2) - y*cos(x*y)"
            ]
          },
          "metadata": {
            "tags": []
          },
          "execution_count": 20
        }
      ]
    },
    {
      "cell_type": "code",
      "metadata": {
        "colab": {
          "base_uri": "https://localhost:8080/"
        },
        "id": "sgnJBVC7-1tW",
        "outputId": "b806c66f-4fa8-401f-acae-e830e260f5b5"
      },
      "source": [
        "sympy.diff(f2, y)"
      ],
      "execution_count": 21,
      "outputs": [
        {
          "output_type": "execute_result",
          "data": {
            "text/plain": [
              "x**2 - x*cos(x*y) + 6"
            ]
          },
          "metadata": {
            "tags": []
          },
          "execution_count": 21
        }
      ]
    },
    {
      "cell_type": "markdown",
      "metadata": {
        "id": "LgHX6Wvp-9nO"
      },
      "source": [
        "**градиент**"
      ]
    },
    {
      "cell_type": "code",
      "metadata": {
        "id": "7toReQUuBPEj"
      },
      "source": [
        "m = np.array([1, 2])"
      ],
      "execution_count": 22,
      "outputs": []
    },
    {
      "cell_type": "code",
      "metadata": {
        "id": "yVPN4KK9_R7T"
      },
      "source": [
        "y = 200"
      ],
      "execution_count": 23,
      "outputs": []
    },
    {
      "cell_type": "code",
      "metadata": {
        "id": "ySSuTQyu-r_0"
      },
      "source": [
        "eps = np.sqrt(np.finfo(float).eps)"
      ],
      "execution_count": 24,
      "outputs": []
    },
    {
      "cell_type": "code",
      "metadata": {
        "colab": {
          "base_uri": "https://localhost:8080/"
        },
        "id": "7YQmitMA9aQc",
        "outputId": "da1560cb-8e62-4ea9-d6f6-de19b3078dba"
      },
      "source": [
        "approx_fprime(m, f_1, [eps, np.sqrt(200) * eps], y)\r\n"
      ],
      "execution_count": 25,
      "outputs": [
        {
          "output_type": "execute_result",
          "data": {
            "text/plain": [
              "array([32039999.        , 64040003.15767512])"
            ]
          },
          "metadata": {
            "tags": []
          },
          "execution_count": 25
        }
      ]
    }
  ]
}