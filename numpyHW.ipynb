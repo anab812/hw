{
  "nbformat": 4,
  "nbformat_minor": 0,
  "metadata": {
    "colab": {
      "name": "numpy.ipynb",
      "provenance": []
    },
    "kernelspec": {
      "name": "python3",
      "display_name": "Python 3"
    }
  },
  "cells": [
    {
      "cell_type": "markdown",
      "metadata": {
        "id": "b2z0Mdv-reQB"
      },
      "source": [
        "**1**"
      ]
    },
    {
      "cell_type": "code",
      "metadata": {
        "id": "REM9wHZJJx9l",
        "outputId": "70beaad2-7e66-419a-d43e-18c803c0f683",
        "colab": {
          "base_uri": "https://localhost:8080/"
        }
      },
      "source": [
        "import numpy as np\n",
        "\n",
        "N = int(input())\n",
        "my_array = np.arange(N, -1, -1)\n",
        "print(my_array)"
      ],
      "execution_count": 7,
      "outputs": [
        {
          "output_type": "stream",
          "text": [
            "3\n",
            "[3 2 1 0]\n"
          ],
          "name": "stdout"
        }
      ]
    },
    {
      "cell_type": "markdown",
      "metadata": {
        "id": "EG26pZdVrcQ4"
      },
      "source": [
        "**2**"
      ]
    },
    {
      "cell_type": "code",
      "metadata": {
        "id": "lakoVsXfrclg",
        "outputId": "efdb9096-1f44-4b31-910d-87481f940f0f",
        "colab": {
          "base_uri": "https://localhost:8080/"
        }
      },
      "source": [
        "np.diag(my_array, k=0)\n"
      ],
      "execution_count": 9,
      "outputs": [
        {
          "output_type": "execute_result",
          "data": {
            "text/plain": [
              "array([[3, 0, 0, 0],\n",
              "       [0, 2, 0, 0],\n",
              "       [0, 0, 1, 0],\n",
              "       [0, 0, 0, 0]])"
            ]
          },
          "metadata": {
            "tags": []
          },
          "execution_count": 9
        }
      ]
    },
    {
      "cell_type": "markdown",
      "metadata": {
        "id": "ZFlSDIIFt9Sz"
      },
      "source": [
        "**3**\n",
        "\n",
        "4x + 2y + z = 4\n",
        "\n",
        "x + 3y = 12\n",
        "\n",
        "5y + 4z = -3"
      ]
    },
    {
      "cell_type": "code",
      "metadata": {
        "id": "cYaG4dWBt9sZ",
        "outputId": "eb28b398-bb34-4525-a0e1-141e4e8fc725",
        "colab": {
          "base_uri": "https://localhost:8080/"
        }
      },
      "source": [
        "from numpy import linalg\n",
        "\n",
        "a = np.array( [ [4, 2, 1], [1, 3, 0], [5, 4, 0] ] )\n",
        "b = np.array( [4, 12, -3] )\n",
        "\n",
        "linalg.solve(a, b)"
      ],
      "execution_count": 10,
      "outputs": [
        {
          "output_type": "execute_result",
          "data": {
            "text/plain": [
              "array([-5.18181818,  5.72727273, 13.27272727])"
            ]
          },
          "metadata": {
            "tags": []
          },
          "execution_count": 10
        }
      ]
    },
    {
      "cell_type": "markdown",
      "metadata": {
        "id": "McuQrJrbvrOj"
      },
      "source": [
        "**4**"
      ]
    },
    {
      "cell_type": "code",
      "metadata": {
        "id": "gp4n8-0cvrWq",
        "outputId": "5246188d-5068-4098-8c67-9e468fae606f",
        "colab": {
          "base_uri": "https://localhost:8080/"
        }
      },
      "source": [
        "users_stats = np.array(\n",
        "    [\n",
        "        [2, 1, 0, 0, 0, 0],\n",
        "        [1, 1, 2, 1, 0, 0],\n",
        "        [2, 0, 1, 0, 0, 0],\n",
        "        [1, 1, 2, 1, 0, 1],\n",
        "        [0, 0, 1, 2, 0, 0],\n",
        "        [0, 0, 0, 0, 0, 5],\n",
        "        [1, 0, 0, 0, 0, 0],\n",
        "        [0, 1, 1, 0, 0, 0],\n",
        "        [0, 0, 0, 1, 1, 3],\n",
        "        [1, 0, 0, 2, 1, 4]\n",
        "    ], \n",
        "    np.int32\n",
        ")\n",
        "\n",
        "next_user_stats = np.array([0, 1, 2, 0, 0, 0])\n",
        "cos_sim_list = {}\n",
        "\n",
        "for user in users_stats:\n",
        "  scalar = np.dot(user, next_user_stats)\n",
        "  cos_sim = scalar/ (np.linalg.norm(user) * np.linalg.norm(next_user_stats))\n",
        "  cos_sim_list[tuple(user)] = round(cos_sim, 2)\n",
        "\n",
        "# print(cos_sim_list)\n",
        "# # print(round(max(cos_sim_list), 2))\n",
        "\n",
        "\n",
        "max_value = max(cos_sim_list.values()) \n",
        "max_keys = [k for k, v in cos_sim_list.items() if v == max_value]\n",
        "\n",
        "print(f'Самый похожий пользователь это {max_keys}, его косинусное сходство с новым пользователем приблизтельно равно {max_value}')\n",
        "\n"
      ],
      "execution_count": 41,
      "outputs": [
        {
          "output_type": "stream",
          "text": [
            "Самый похожий пользователь это [(0, 1, 1, 0, 0, 0)], его косинусное сходство с новым пользователем приблизтельно равно 0.95\n"
          ],
          "name": "stdout"
        }
      ]
    }
  ]
}