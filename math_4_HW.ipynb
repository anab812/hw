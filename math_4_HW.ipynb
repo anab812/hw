{
  "nbformat": 4,
  "nbformat_minor": 0,
  "metadata": {
    "colab": {
      "name": "math_4_HW.ipynb",
      "provenance": []
    },
    "kernelspec": {
      "name": "python3",
      "display_name": "Python 3"
    }
  },
  "cells": [
    {
      "cell_type": "code",
      "metadata": {
        "id": "xPvvc4EklDNT"
      },
      "source": [
        "import numpy as np"
      ],
      "execution_count": 32,
      "outputs": []
    },
    {
      "cell_type": "code",
      "metadata": {
        "id": "lbKgdofkd-Nz"
      },
      "source": [
        "from scipy.misc import derivative"
      ],
      "execution_count": 33,
      "outputs": []
    },
    {
      "cell_type": "markdown",
      "metadata": {
        "id": "mUWR2WPOe_DG"
      },
      "source": [
        "**Уровень 0**"
      ]
    },
    {
      "cell_type": "code",
      "metadata": {
        "id": "Sz8sO_HKe9bU"
      },
      "source": [
        "def f(x):\r\n",
        "  return x**5 + 4*np.sin(2*x) + np.cos(3*x + 3)"
      ],
      "execution_count": 34,
      "outputs": []
    },
    {
      "cell_type": "code",
      "metadata": {
        "colab": {
          "base_uri": "https://localhost:8080/"
        },
        "id": "cfIZ5dWEfkXs",
        "outputId": "5fde2c07-66f7-47d8-d615-bba939a5f817"
      },
      "source": [
        "derivative(f, 1.0, n=1)"
      ],
      "execution_count": 35,
      "outputs": [
        {
          "output_type": "execute_result",
          "data": {
            "text/plain": [
              "14.525826126742029"
            ]
          },
          "metadata": {
            "tags": []
          },
          "execution_count": 35
        }
      ]
    },
    {
      "cell_type": "code",
      "metadata": {
        "colab": {
          "base_uri": "https://localhost:8080/"
        },
        "id": "7QS6f_WigUoc",
        "outputId": "f1dee26f-4947-4711-f87e-a022d9de3d5c"
      },
      "source": [
        "derivative(f, 1.0, n=2)"
      ],
      "execution_count": 36,
      "outputs": [
        {
          "output_type": "execute_result",
          "data": {
            "text/plain": [
              "15.87694727237698"
            ]
          },
          "metadata": {
            "tags": []
          },
          "execution_count": 36
        }
      ]
    }
  ]
}