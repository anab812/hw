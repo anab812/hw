{
  "nbformat": 4,
  "nbformat_minor": 0,
  "metadata": {
    "kernelspec": {
      "display_name": "Python 3",
      "language": "python",
      "name": "python3"
    },
    "language_info": {
      "codemirror_mode": {
        "name": "ipython",
        "version": 3
      },
      "file_extension": ".py",
      "mimetype": "text/x-python",
      "name": "python",
      "nbconvert_exporter": "python",
      "pygments_lexer": "ipython3",
      "version": "3.7.7"
    },
    "colab": {
      "name": "python_hw_random.ipynb",
      "provenance": []
    }
  },
  "cells": [
    {
      "cell_type": "code",
      "metadata": {
        "id": "A0Zt1iMQeJQk"
      },
      "source": [
        "import numpy as np\r\n",
        "import re"
      ],
      "execution_count": 1,
      "outputs": []
    },
    {
      "cell_type": "code",
      "metadata": {
        "id": "GA7n0wYbZB2d"
      },
      "source": [
        "def play_lottery():\r\n",
        "  random_score = np.random.randint(1, 1000) \r\n",
        "  money = -1\r\n",
        "  if random_score == 777:\r\n",
        "        money += 200\r\n",
        "  elif random_score == 999:\r\n",
        "        money += 100\r\n",
        "  elif random_score == 555:\r\n",
        "        money += 50\r\n",
        "  elif random_score == 333:\r\n",
        "        money += 15\r\n",
        "  elif random_score == 111:\r\n",
        "        money += 10\r\n",
        "  elif re.findall('7{2}$', str(random_score)):\r\n",
        "        money += 5\r\n",
        "  elif re.findall('7{1}$', str(random_score)):\r\n",
        "        money += 3\r\n",
        "  elif re.findall('0{2}$', str(random_score)):\r\n",
        "        money += 2\r\n",
        "  elif re.findall('0{1}$', str(random_score)):\r\n",
        "        money += 1\r\n",
        "  return money"
      ],
      "execution_count": 31,
      "outputs": []
    },
    {
      "cell_type": "code",
      "metadata": {
        "colab": {
          "base_uri": "https://localhost:8080/"
        },
        "id": "I-bBFrZ9Orb9",
        "outputId": "06dc2a1d-a470-4700-ec29-bd3269c45593"
      },
      "source": [
        "score_777 = 0.001*200 \r\n",
        "score_999 = 0.001*100 \r\n",
        "score_555 = 0.001*50 \r\n",
        "score_333 = 0.001*15 \r\n",
        "score_111 = 0.001*10 \r\n",
        "score_77 = 0.01*5 \r\n",
        "score_7 = 0.1*3 \r\n",
        "score_00 = 0.01*2 \r\n",
        "score_0 = 0.1*1 \r\n",
        "\r\n",
        "average_win = -1 + score_777 + score_999 + score_555 + score_333 + score_777 + score_111 + score_77 + score_7 + score_00 + score_0 \r\n",
        "print(average_win)"
      ],
      "execution_count": 51,
      "outputs": [
        {
          "output_type": "stream",
          "text": [
            "0.045000000000000054\n"
          ],
          "name": "stdout"
        }
      ]
    },
    {
      "cell_type": "code",
      "metadata": {
        "id": "s8q66vhdeJQ3",
        "colab": {
          "base_uri": "https://localhost:8080/"
        },
        "outputId": "d28a98c3-93e7-4489-84e1-0a359a67cd77"
      },
      "source": [
        "average = []\n",
        "single_player = 0\n",
        "for i in range(trials):\n",
        "    single_player += play_lottery()\n",
        "    average.append(play_lottery())  \n",
        "print(f' В среднем на {trials} попыток игрок теряет {sum(average)/ len(average)}$ \\n\\n \\\n",
        "Один игрок, сыгравший {trials} раз в этом эксперименте, оказался с {single_player}$\\n\\n \\\n",
        "Теоретически игра должна приносить {round(average_win, 3)}$')"
      ],
      "execution_count": 77,
      "outputs": [
        {
          "output_type": "stream",
          "text": [
            " В среднем на 1000 попыток игрок теряет -0.199$ \n",
            "\n",
            " Один игрок, сыгравший 1000 раз в этом эксперименте, оказался с -168$\n",
            "\n",
            " Теоретически игра должна приносить 0.045$\n"
          ],
          "name": "stdout"
        }
      ]
    }
  ]
}