{
 "cells": [
  {
   "cell_type": "code",
   "execution_count": 20,
   "metadata": {},
   "outputs": [
    {
     "name": "stdout",
     "output_type": "stream",
     "text": [
      "введите слово: bhgdfgd\n",
      "g\n"
     ]
    }
   ],
   "source": [
    "word = input (\"введите слово: \")\n",
    "if len(word)%2 == 0:\n",
    "    i = int(len(word)/2)\n",
    "    print(word[int((len(word)/2-1)):int((len(word)/2))+1])\n",
    "else:\n",
    "    print(word[int((len(word)/2-1)):int((len(word)/2))])\n"
   ]
  },
  {
   "cell_type": "code",
   "execution_count": 19,
   "metadata": {},
   "outputs": [
    {
     "name": "stdout",
     "output_type": "stream",
     "text": [
      "Введите число: 6\n",
      "6\n",
      "Введите число: 4\n",
      "4\n",
      "Введите число: 6\n",
      "6\n",
      "Введите число: 7\n",
      "7\n",
      "Введите число: 0\n",
      "0\n",
      "Результат:  23\n"
     ]
    }
   ],
   "source": [
    "number = 1\n",
    "num_sum = 0\n",
    "while number != 0:\n",
    "    number = int(input(\"Введите число: \")) \n",
    "    print(number)\n",
    "    num_sum += number \n",
    "else: \n",
    "    print(\"Результат: \", num_sum)"
   ]
  },
  {
   "cell_type": "code",
   "execution_count": 18,
   "metadata": {},
   "outputs": [
    {
     "name": "stdout",
     "output_type": "stream",
     "text": [
      "Идеальные пары:\n",
      "Alex и Emma\n",
      "Arthur и Kate\n",
      "John и Kira\n",
      "Peter и Liza\n",
      "Richard и Trisha\n"
     ]
    }
   ],
   "source": [
    "boys = [\"Peter\", \"Alex\", \"John\", \"Arthur\", \"Richard\"]\n",
    "girls = [\"Kate\", \"Liza\", \"Kira\", \"Emma\", \"Trisha\"]\n",
    "if len(boys) == len(girls):\n",
    "    print(\"Идеальные пары:\")\n",
    "    girls.sort()\n",
    "    boys.sort()\n",
    "    for b, g in zip(boys, girls):\n",
    "        print(f'{b} и {g}')\n",
    "else: print(\"Внимание, кто-то может остаться без пары!\")"
   ]
  },
  {
   "cell_type": "code",
   "execution_count": 27,
   "metadata": {},
   "outputs": [
    {
     "name": "stdout",
     "output_type": "stream",
     "text": [
      "Thailand - 23.86\n",
      "Germany - 13.8\n",
      "Russia - 3.71\n",
      "Poland - 12.0\n"
     ]
    }
   ],
   "source": [
    "countries_temperature = [\n",
    "    ['Thailand', [75.2, 77, 78.8, 73.4, 68, 75.2, 77]],\n",
    "    ['Germany', [57.2, 55.4, 59, 59, 53.6]],\n",
    "    ['Russia', [35.6, 37.4, 39.2, 41, 42.8, 39.2, 35.6]],\n",
    "    ['Poland', [50, 50, 53.6, 57.2, 55.4, 55.4]]\n",
    "]\n",
    "for x, y in countries_temperature:\n",
    "    print(f'{x} - {round((sum(y)/len(y) - 32) * 5/9, 2)}')\n",
    "    "
   ]
  }
 ],
 "metadata": {
  "kernelspec": {
   "display_name": "Python 3",
   "language": "python",
   "name": "python3"
  },
  "language_info": {
   "codemirror_mode": {
    "name": "ipython",
    "version": 3
   },
   "file_extension": ".py",
   "mimetype": "text/x-python",
   "name": "python",
   "nbconvert_exporter": "python",
   "pygments_lexer": "ipython3",
   "version": "3.7.6"
  }
 },
 "nbformat": 4,
 "nbformat_minor": 4
}
