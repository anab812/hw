{
 "cells": [
  {
   "cell_type": "code",
   "execution_count": 1,
   "metadata": {},
   "outputs": [],
   "source": []
  },
  {
   "cell_type": "code",
   "execution_count": 2,
   "metadata": {},
   "outputs": [
    {
     "name": "stdout",
     "output_type": "stream",
     "text": [
      "Фраза 1 длиннее фразы 2\n"
     ]
    }
   ],
   "source": [
    "phrase_1 = 'usdfbjsdn'\n",
    "phrase_2 = 'skfnkjrfnf'\n",
    "\n",
    "if phrase_1 > phrase_2: print (\"Фраза 1 длиннее фразы 2\")\n",
    "elif phrase_1 == phrase_2: print (\"Фразы равной длины\")\n",
    "else: print(\"Фраза 2 длиннее фразы 1\")\n"
   ]
  },
  {
   "cell_type": "code",
   "execution_count": 3,
   "metadata": {},
   "outputs": [
    {
     "name": "stdout",
     "output_type": "stream",
     "text": [
      "Високосный год\n"
     ]
    }
   ],
   "source": [
    "year = 2016\n",
    "if year >= -4000 and year <= 4000:\n",
    " if year%4 == 0: \n",
    "    print (\"Високосный год\")\n",
    " else: print (\"Обычный год\")\n",
    "else: print (\"invalid input\")"
   ]
  },
  {
   "cell_type": "code",
   "execution_count": 5,
   "metadata": {},
   "outputs": [
    {
     "name": "stdout",
     "output_type": "stream",
     "text": [
      "введите день: 25\n",
      "введите месяц: март\n",
      "овен\n"
     ]
    }
   ],
   "source": [
    "day = int(input(\"введите день: \"))\n",
    "month = input(\"введите месяц: \") \n",
    "if day >= 21 and day <= 31 and month == \"март\" or day >= 1 and day <= 20 and month == \"апрель\": print(\"овен\")\n",
    "elif day >= 21 and day <= 30 and month == \"апрель\" or day >= 1 and day <= 20 and month == \"май\": print(\"телец\")\n",
    "elif day >= 21 and day <= 31 and month == \"май\" or day >= 1 and day <= 20 and month == \"июнь\": print(\"близнецы\")\n",
    "elif day >= 21 and day <= 30 and month == \"июнь\" or day >= 1 and day <= 22 and month == \"июль\": print(\"рак\")\n",
    "elif day >= 23 and day <= 31 and month == \"июль\" or day >= 1 and day <= 22 and month == \"август\": print(\"лев\")\n",
    "elif day >= 23 and day <= 31 and month == \"август\" or day >= 1 and day <= 22 and month == \"сентябрь\": print(\"дева\")\n",
    "elif day >= 23 and day <= 30 and month == \"сентябрь\" or day >= 1 and day <= 22 and month == \"октябрь\": print(\"весы\")\n",
    "elif day >= 23 and day <= 31 and month == \"октябрь\" or day >= 1 and day <= 22 and month == \"ноябрь\": print(\"скорпион\")\n",
    "elif day >= 23 and day <= 30 and month == \"ноябрь\" or day >= 1 and day <= 21 and month == \"декабрь\": print(\"стрелец\")\n",
    "elif day >= 22 and day <= 31 and month == \"декабрь\" or day >= 1 and day <= 19 and month == \"январь\": print(\"козерог\")\n",
    "elif day >= 20 and day <= 31 and month == \"январь\" or day >= 1 and day <= 19 and month == \"февраль\": print(\"водолей\")\n",
    "elif day >= 20 and day <= 29 and month == \"февраль\" or day >= 1 and day <= 20 and month == \"март\": print(\"рыбы\")\n",
    "else: print(\"неверная дата\")\n"
   ]
  },
  {
   "cell_type": "code",
   "execution_count": 7,
   "metadata": {
    "scrolled": true
   },
   "outputs": [
    {
     "name": "stdout",
     "output_type": "stream",
     "text": [
      "Упаковка для лыж\n"
     ]
    }
   ],
   "source": [
    "width = 10\n",
    "length = 205\n",
    "height = 5\n",
    "if width < 15 and length < 15 and height < 15:\n",
    "    print(\"Коробка №1\")\n",
    "elif width > 15 and width < 50 or length > 15 and length < 50 or height > 15 and height < 50:\n",
    "    print(\"Коробка №2\")\n",
    "elif length > 200:\n",
    "    print(\"Упаковка для лыж\")\n",
    "else: print( \"Стандартная коробка №3\")"
   ]
  },
  {
   "cell_type": "code",
   "execution_count": 15,
   "metadata": {},
   "outputs": [
    {
     "name": "stdout",
     "output_type": "stream",
     "text": [
      "invalid input\n"
     ]
    }
   ],
   "source": [
    "number = str(1231239)\n",
    "\n",
    "if len(number) != 6:\n",
    "    print(\"invalid input\")\n",
    "elif int(number[0])+int(number[1])+int(number[2]) == int(number[3])+int(number[4])+int(number[5]):\n",
    "    print(\"Счастливый билет\")\n",
    "else:\n",
    "     print(\"Нечастливый билет\")"
   ]
  },
  {
   "cell_type": "code",
   "execution_count": 8,
   "metadata": {},
   "outputs": [
    {
     "name": "stdout",
     "output_type": "stream",
     "text": [
      "тип фигуры - круг, треугольник или прямоугольник?: круг\n",
      "напишите радиус фигуры: 6\n",
      "площадь фигуры  113.097312\n"
     ]
    }
   ],
   "source": [
    "import math\n",
    "f_type = input(\"тип фигуры - круг, треугольник или прямоугольник?: \")\n",
    "if f_type == \"круг\":\n",
    "    r = int(input(\"напишите радиус фигуры: \"))\n",
    "    print(\"площадь фигуры \", 3.141592 * (r**2))\n",
    "elif f_type == \"треугольник\":\n",
    "    lt1 = int(input(\"напишите длину стороны 1: \"))\n",
    "    lt2 = int(input(\"напишите длину стороны 2: \"))\n",
    "    lt3 = int(input(\"напишите длину стороны 3: \"))\n",
    "    p = 0.5 * (lt1 + lt2 + lt3)\n",
    "    print(\"площать фигуры \", math.sqrt(p * (p - lt1) * (p - lt2) * (p - lt3)))\n",
    "elif f_type == \"прямоугольник\":\n",
    "    ls1 = int(input(\"напишите длину стороны 1: \"))\n",
    "    ls2 = int(input(\"напишите длину стороны 2: \"))\n",
    "    print(\"площать фигуры \", ls1 * ls2)\n",
    "else:\n",
    "    print(\"Неверный тип фигуры. Попробуйте ещё раз.\")"
   ]
  },
  {
   "cell_type": "code",
   "execution_count": null,
   "metadata": {},
   "outputs": [],
   "source": []
  }
 ],
 "metadata": {
  "kernelspec": {
   "display_name": "Python 3",
   "language": "python",
   "name": "python3"
  },
  "language_info": {
   "codemirror_mode": {
    "name": "ipython",
    "version": 3
   },
   "file_extension": ".py",
   "mimetype": "text/x-python",
   "name": "python",
   "nbconvert_exporter": "python",
   "pygments_lexer": "ipython3",
   "version": "3.7.6"
  }
 },
 "nbformat": 4,
 "nbformat_minor": 4
}
