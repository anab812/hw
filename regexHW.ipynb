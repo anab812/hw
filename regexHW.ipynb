{
  "nbformat": 4,
  "nbformat_minor": 0,
  "metadata": {
    "colab": {
      "name": "regexHW.ipynb",
      "provenance": []
    },
    "kernelspec": {
      "name": "python3",
      "display_name": "Python 3"
    }
  },
  "cells": [
    {
      "cell_type": "code",
      "metadata": {
        "id": "jGiQgRH9uZsv",
        "outputId": "100b3139-307d-4a1d-8eb1-da2d515cd445",
        "colab": {
          "base_uri": "https://localhost:8080/"
        }
      },
      "source": [
        "import re\n",
        "def num_checker():\n",
        "  car_id = input('Введите номер ')\n",
        "  matched = re.match(\"[АВЕКМНОРСТУХ]\\d{3}[АВЕКМНОРСТУХ]{2}\\d{2,3}\", car_id)\n",
        "  is_match = bool(matched)\n",
        "  if is_match == True:\n",
        "    print(f'Результат: Номер {car_id[:5]} валиден. Регион: {car_id[6:]}')\n",
        "  else:\n",
        "    print('Номер не валиден')\n",
        "num_checker()"
      ],
      "execution_count": 3,
      "outputs": [
        {
          "output_type": "stream",
          "text": [
            "Введите номер gfyhh\n",
            "Номер не валиден\n"
          ],
          "name": "stdout"
        }
      ]
    },
    {
      "cell_type": "code",
      "metadata": {
        "id": "1crw8D1g2VU3",
        "outputId": "6cb00395-3260-4634-8389-7d94b68f3525",
        "colab": {
          "base_uri": "https://localhost:8080/"
        }
      },
      "source": [
        "some_string = 'Напишите функцию функцию, которая будет будет будет будет удалять все все все все последовательные повторы слов из из из из заданной строки строки при помощи регулярных выражений'\n",
        "def string_cleaner(string_to_clean):\n",
        "  re_output = re.sub(r'\\b([а-яёА-ЯЁ]+)\\s+\\1\\b', r'\\1',string_to_clean)\n",
        "  re_output_upd = re.sub(r'\\b([а-яёА-ЯЁ]+)\\s+\\1\\b', r'\\1',re_output)\n",
        "  print(re_output_upd)\n",
        "string_cleaner(some_string)"
      ],
      "execution_count": 13,
      "outputs": [
        {
          "output_type": "stream",
          "text": [
            "Напишите функцию, которая будет удалять все последовательные повторы слов из заданной строки при помощи регулярных выражений\n"
          ],
          "name": "stdout"
        }
      ]
    },
    {
      "cell_type": "code",
      "metadata": {
        "id": "A547-nzy0fhb",
        "outputId": "9779ec98-c95b-4987-fe9e-2ce3b7f744ad",
        "colab": {
          "base_uri": "https://localhost:8080/",
          "height": 35
        }
      },
      "source": [
        "some_words = 'Информационные технологии'\n",
        "def acronym_maker(input_string):\n",
        "  result = re.findall(r'\\b\\w', input_string)\n",
        "  acronym = ''.join(map(str, result)) \n",
        "  return acronym.upper()\n",
        "acronym_maker(some_words)"
      ],
      "execution_count": 29,
      "outputs": [
        {
          "output_type": "execute_result",
          "data": {
            "application/vnd.google.colaboratory.intrinsic+json": {
              "type": "string"
            },
            "text/plain": [
              "'ИТ'"
            ]
          },
          "metadata": {
            "tags": []
          },
          "execution_count": 29
        }
      ]
    },
    {
      "cell_type": "code",
      "metadata": {
        "id": "cZrTWHF5S2NY",
        "outputId": "c44e3257-b28a-491e-bb69-5549ac3c9737",
        "colab": {
          "base_uri": "https://localhost:8080/"
        }
      },
      "source": [
        "import collections  \n",
        "emails = ['test@gmail.com', 'xyz@test.in', 'test@ya.ru', 'xyz@mail.ru', 'xyz@ya.ru', 'xyz@gmail.com']\n",
        "for email in emails:\n",
        "  words = re.findall(r'@\\w*.\\w*', email)\n",
        "  occurrances = collections.Counter(words)\n",
        "  print(occurrances)\n"
      ],
      "execution_count": 59,
      "outputs": [
        {
          "output_type": "stream",
          "text": [
            "Counter({'@gmail.com': 1})\n",
            "Counter({'@test.in': 1})\n",
            "Counter({'@ya.ru': 1})\n",
            "Counter({'@mail.ru': 1})\n",
            "Counter({'@ya.ru': 1})\n",
            "Counter({'@gmail.com': 1})\n"
          ],
          "name": "stdout"
        }
      ]
    },
    {
      "cell_type": "code",
      "metadata": {
        "id": "SAy7pEfFWOJu"
      },
      "source": [
        ""
      ],
      "execution_count": 59,
      "outputs": []
    }
  ]
}