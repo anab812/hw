{
  "nbformat": 4,
  "nbformat_minor": 0,
  "metadata": {
    "colab": {
      "name": "math_3_HW.ipynb",
      "provenance": [],
      "collapsed_sections": []
    },
    "kernelspec": {
      "name": "python3",
      "display_name": "Python 3"
    }
  },
  "cells": [
    {
      "cell_type": "code",
      "metadata": {
        "id": "xPvvc4EklDNT"
      },
      "source": [
        "import numpy as np"
      ],
      "execution_count": 1,
      "outputs": []
    },
    {
      "cell_type": "code",
      "metadata": {
        "id": "yGQDm4AAr1Z7"
      },
      "source": [
        "import matplotlib.pyplot as plt"
      ],
      "execution_count": 2,
      "outputs": []
    },
    {
      "cell_type": "code",
      "metadata": {
        "id": "K1TbMeO_xZxM"
      },
      "source": [
        "import math"
      ],
      "execution_count": 2,
      "outputs": []
    },
    {
      "cell_type": "markdown",
      "metadata": {
        "id": "cEgiDg41PmUR"
      },
      "source": [
        "**Уровень 0**"
      ]
    },
    {
      "cell_type": "markdown",
      "metadata": {
        "id": "6h5GXIXv126d"
      },
      "source": [
        "**a**"
      ]
    },
    {
      "cell_type": "code",
      "metadata": {
        "id": "vc8Rrt4XltIJ"
      },
      "source": [
        "T = np.array([[0, 1], [-1, 0]])"
      ],
      "execution_count": 63,
      "outputs": []
    },
    {
      "cell_type": "code",
      "metadata": {
        "colab": {
          "base_uri": "https://localhost:8080/"
        },
        "id": "q9xn7LYuxc1g",
        "outputId": "0297a959-5bfc-4610-f42e-ed9419c1b43f"
      },
      "source": [
        "TT = T.transpose()\r\n",
        "TT"
      ],
      "execution_count": 64,
      "outputs": [
        {
          "output_type": "execute_result",
          "data": {
            "text/plain": [
              "array([[ 0, -1],\n",
              "       [ 1,  0]])"
            ]
          },
          "metadata": {
            "tags": []
          },
          "execution_count": 64
        }
      ]
    },
    {
      "cell_type": "code",
      "metadata": {
        "colab": {
          "base_uri": "https://localhost:8080/"
        },
        "id": "paRD7roIyWDI",
        "outputId": "4fbc25ae-e516-46a6-aaef-b2bcc10844ea"
      },
      "source": [
        "T.dot(TT)"
      ],
      "execution_count": 65,
      "outputs": [
        {
          "output_type": "execute_result",
          "data": {
            "text/plain": [
              "array([[1, 0],\n",
              "       [0, 1]])"
            ]
          },
          "metadata": {
            "tags": []
          },
          "execution_count": 65
        }
      ]
    },
    {
      "cell_type": "markdown",
      "metadata": {
        "id": "TZ-ON04n1vTm"
      },
      "source": [
        "**b**"
      ]
    },
    {
      "cell_type": "code",
      "metadata": {
        "id": "7kx4RoBNu4l-"
      },
      "source": [
        "A = np.array([[1, 0, 0], [0, -1, 0], [0, 0, -1]])"
      ],
      "execution_count": 66,
      "outputs": []
    },
    {
      "cell_type": "code",
      "metadata": {
        "colab": {
          "base_uri": "https://localhost:8080/"
        },
        "id": "R_xI9116vs3o",
        "outputId": "da5a4a7d-8176-4473-9e97-a429a20789eb"
      },
      "source": [
        "A"
      ],
      "execution_count": 67,
      "outputs": [
        {
          "output_type": "execute_result",
          "data": {
            "text/plain": [
              "array([[ 1,  0,  0],\n",
              "       [ 0, -1,  0],\n",
              "       [ 0,  0, -1]])"
            ]
          },
          "metadata": {
            "tags": []
          },
          "execution_count": 67
        }
      ]
    },
    {
      "cell_type": "code",
      "metadata": {
        "id": "g5SeAtCJu5-P"
      },
      "source": [
        "AT = A.transpose()"
      ],
      "execution_count": 68,
      "outputs": []
    },
    {
      "cell_type": "code",
      "metadata": {
        "colab": {
          "base_uri": "https://localhost:8080/"
        },
        "id": "-I--XHzEvvOH",
        "outputId": "e37b44b4-7d18-4d31-84e9-0e02008d70b9"
      },
      "source": [
        "AT"
      ],
      "execution_count": 69,
      "outputs": [
        {
          "output_type": "execute_result",
          "data": {
            "text/plain": [
              "array([[ 1,  0,  0],\n",
              "       [ 0, -1,  0],\n",
              "       [ 0,  0, -1]])"
            ]
          },
          "metadata": {
            "tags": []
          },
          "execution_count": 69
        }
      ]
    },
    {
      "cell_type": "code",
      "metadata": {
        "colab": {
          "base_uri": "https://localhost:8080/"
        },
        "id": "bWH6Jhncu5pr",
        "outputId": "24becb95-1993-4eb8-c995-4489c801ebed"
      },
      "source": [
        "A.dot(AT)"
      ],
      "execution_count": 70,
      "outputs": [
        {
          "output_type": "execute_result",
          "data": {
            "text/plain": [
              "array([[1, 0, 0],\n",
              "       [0, 1, 0],\n",
              "       [0, 0, 1]])"
            ]
          },
          "metadata": {
            "tags": []
          },
          "execution_count": 70
        }
      ]
    },
    {
      "cell_type": "markdown",
      "metadata": {
        "id": "nYNy4DfvXn8k"
      },
      "source": [
        "**c**"
      ]
    },
    {
      "cell_type": "code",
      "metadata": {
        "id": "2x80q1d_XqOL"
      },
      "source": [
        "B = np.array([[0, 0, -1], [0, 1, 0], [-1, 0, 0]])"
      ],
      "execution_count": 80,
      "outputs": []
    },
    {
      "cell_type": "code",
      "metadata": {
        "id": "xvuKfeDsYBRN"
      },
      "source": [
        "BT = B.transpose()"
      ],
      "execution_count": 81,
      "outputs": []
    },
    {
      "cell_type": "code",
      "metadata": {
        "colab": {
          "base_uri": "https://localhost:8080/"
        },
        "id": "m-haZ6K1YEqE",
        "outputId": "6d2c7c3e-15cf-4d8f-e821-17ea2a506a86"
      },
      "source": [
        "B.dot(BT)"
      ],
      "execution_count": 82,
      "outputs": [
        {
          "output_type": "execute_result",
          "data": {
            "text/plain": [
              "array([[1, 0, 0],\n",
              "       [0, 1, 0],\n",
              "       [0, 0, 1]])"
            ]
          },
          "metadata": {
            "tags": []
          },
          "execution_count": 82
        }
      ]
    },
    {
      "cell_type": "markdown",
      "metadata": {
        "id": "ouDyjVTbK30c"
      },
      "source": [
        "**d**"
      ]
    },
    {
      "cell_type": "code",
      "metadata": {
        "id": "mb7B2qRpKnzM"
      },
      "source": [
        "a = np.array([[2, 1],\r\n",
        "              [3, 2]])"
      ],
      "execution_count": 35,
      "outputs": []
    },
    {
      "cell_type": "code",
      "metadata": {
        "colab": {
          "base_uri": "https://localhost:8080/"
        },
        "id": "829zaJqKKoN8",
        "outputId": "b84b461b-f1f5-4c62-cd3b-7884e5cfae90"
      },
      "source": [
        "np.linalg.det(a)"
      ],
      "execution_count": 36,
      "outputs": [
        {
          "output_type": "execute_result",
          "data": {
            "text/plain": [
              "0.9999999999999998"
            ]
          },
          "metadata": {
            "tags": []
          },
          "execution_count": 36
        }
      ]
    },
    {
      "cell_type": "markdown",
      "metadata": {
        "id": "r5qEWWiDKdVU"
      },
      "source": [
        "собственные значения и векторы"
      ]
    },
    {
      "cell_type": "code",
      "metadata": {
        "colab": {
          "base_uri": "https://localhost:8080/"
        },
        "id": "nnuU8ZGdIgcn",
        "outputId": "a8e37db4-b96b-492e-fde0-b035f5e5d70a"
      },
      "source": [
        "m = np.array([[2, 2],\r\n",
        "              [1, 3]])\r\n",
        "\r\n",
        "np.linalg.eig(m)"
      ],
      "execution_count": 12,
      "outputs": [
        {
          "output_type": "execute_result",
          "data": {
            "text/plain": [
              "(array([1., 4.]), array([[-0.89442719, -0.70710678],\n",
              "        [ 0.4472136 , -0.70710678]]))"
            ]
          },
          "metadata": {
            "tags": []
          },
          "execution_count": 12
        }
      ]
    }
  ]
}