{
  "nbformat": 4,
  "nbformat_minor": 0,
  "metadata": {
    "colab": {
      "name": "math_2_HW.ipynb",
      "provenance": []
    },
    "kernelspec": {
      "name": "python3",
      "display_name": "Python 3"
    }
  },
  "cells": [
    {
      "cell_type": "code",
      "metadata": {
        "id": "xPvvc4EklDNT"
      },
      "source": [
        "import numpy as np"
      ],
      "execution_count": 1,
      "outputs": []
    },
    {
      "cell_type": "code",
      "metadata": {
        "id": "yGQDm4AAr1Z7"
      },
      "source": [
        "import matplotlib.pyplot as plt"
      ],
      "execution_count": 9,
      "outputs": []
    },
    {
      "cell_type": "code",
      "metadata": {
        "id": "K1TbMeO_xZxM"
      },
      "source": [
        "import math"
      ],
      "execution_count": 44,
      "outputs": []
    },
    {
      "cell_type": "markdown",
      "metadata": {
        "id": "cEgiDg41PmUR"
      },
      "source": [
        "**Уровень 0**"
      ]
    },
    {
      "cell_type": "code",
      "metadata": {
        "colab": {
          "base_uri": "https://localhost:8080/"
        },
        "id": "8dcAWPTyLPAi",
        "outputId": "3a44b870-b38c-4891-8329-6ae0297013eb"
      },
      "source": [
        "X = np.array([[1, 2, 3],[4,5,6],[7,8,9]] )\r\n",
        "X"
      ],
      "execution_count": 144,
      "outputs": [
        {
          "output_type": "execute_result",
          "data": {
            "text/plain": [
              "array([[1, 2, 3],\n",
              "       [4, 5, 6],\n",
              "       [7, 8, 9]])"
            ]
          },
          "metadata": {
            "tags": []
          },
          "execution_count": 144
        }
      ]
    },
    {
      "cell_type": "code",
      "metadata": {
        "colab": {
          "base_uri": "https://localhost:8080/"
        },
        "id": "ORxgab77rjgU",
        "outputId": "f22aa00d-980d-4812-ccc0-c00721388c89"
      },
      "source": [
        "Y = np.eye(3)\r\n",
        "Y"
      ],
      "execution_count": 145,
      "outputs": [
        {
          "output_type": "execute_result",
          "data": {
            "text/plain": [
              "array([[1., 0., 0.],\n",
              "       [0., 1., 0.],\n",
              "       [0., 0., 1.]])"
            ]
          },
          "metadata": {
            "tags": []
          },
          "execution_count": 145
        }
      ]
    },
    {
      "cell_type": "code",
      "metadata": {
        "colab": {
          "base_uri": "https://localhost:8080/"
        },
        "id": "8ajNKi7MMi-R",
        "outputId": "b1e34fc1-b818-4979-f9c7-e1814fa1bad8"
      },
      "source": [
        "N = X+Y\r\n",
        "N"
      ],
      "execution_count": 146,
      "outputs": [
        {
          "output_type": "execute_result",
          "data": {
            "text/plain": [
              "array([[ 2.,  2.,  3.],\n",
              "       [ 4.,  6.,  6.],\n",
              "       [ 7.,  8., 10.]])"
            ]
          },
          "metadata": {
            "tags": []
          },
          "execution_count": 146
        }
      ]
    },
    {
      "cell_type": "code",
      "metadata": {
        "colab": {
          "base_uri": "https://localhost:8080/"
        },
        "id": "n-ZwjX1pMuCR",
        "outputId": "0e50eb0a-59ce-4b06-b6e5-2bb302499f87"
      },
      "source": [
        "v = np.array([1,2,3])\r\n",
        "np.dot(N, v)"
      ],
      "execution_count": 147,
      "outputs": [
        {
          "output_type": "execute_result",
          "data": {
            "text/plain": [
              "array([15., 34., 53.])"
            ]
          },
          "metadata": {
            "tags": []
          },
          "execution_count": 147
        }
      ]
    },
    {
      "cell_type": "code",
      "metadata": {
        "colab": {
          "base_uri": "https://localhost:8080/"
        },
        "id": "YvGo-XrGOvmQ",
        "outputId": "0e0c5558-a80e-45a0-b3a2-9a4ae804903b"
      },
      "source": [
        "B = np.linalg.inv(N)\r\n",
        "B"
      ],
      "execution_count": 148,
      "outputs": [
        {
          "output_type": "execute_result",
          "data": {
            "text/plain": [
              "array([[-6.00000000e+00, -2.00000000e+00,  3.00000000e+00],\n",
              "       [-1.00000000e+00,  5.00000000e-01, -2.33146835e-16],\n",
              "       [ 5.00000000e+00,  1.00000000e+00, -2.00000000e+00]])"
            ]
          },
          "metadata": {
            "tags": []
          },
          "execution_count": 148
        }
      ]
    },
    {
      "cell_type": "markdown",
      "metadata": {
        "id": "RUo6bMmWP0tG"
      },
      "source": [
        "**Уровень 1**"
      ]
    },
    {
      "cell_type": "code",
      "metadata": {
        "id": "X7UFddnaP3w-"
      },
      "source": [
        "A = [\r\n",
        "[-100, -100, 1],\r\n",
        "[-100, 100, 1],\r\n",
        "[100, 100, 1],\r\n",
        "[0, 0, 1],\r\n",
        "[100, -100, 1],\r\n",
        "[-100, -100, 1]\r\n",
        "]"
      ],
      "execution_count": 149,
      "outputs": []
    },
    {
      "cell_type": "code",
      "metadata": {
        "id": "v5XjD0KeP8bG"
      },
      "source": [
        "A = np.array(A)\r\n",
        "x = A[:,0]\r\n",
        "y = A[:,1]"
      ],
      "execution_count": 162,
      "outputs": []
    },
    {
      "cell_type": "code",
      "metadata": {
        "colab": {
          "base_uri": "https://localhost:8080/",
          "height": 286
        },
        "id": "0L1r-aQ2P8R-",
        "outputId": "22aa87a7-0315-45fc-9f68-fd345c8dbd50"
      },
      "source": [
        "plt.plot(x, y)\r\n",
        "plt.ylim([-200, 200])\r\n",
        "plt.xlim([-200, 200])"
      ],
      "execution_count": 163,
      "outputs": [
        {
          "output_type": "execute_result",
          "data": {
            "text/plain": [
              "(-200.0, 200.0)"
            ]
          },
          "metadata": {
            "tags": []
          },
          "execution_count": 163
        },
        {
          "output_type": "display_data",
          "data": {
            "image/png": "[encoded data removed]",
            "text/plain": [
              "<Figure size 432x288 with 1 Axes>"
            ]
          },
          "metadata": {
            "tags": [],
            "needs_background": "light"
          }
        }
      ]
    },
    {
      "cell_type": "markdown",
      "metadata": {
        "id": "JXGLX8mSTmR5"
      },
      "source": [
        "**размер**"
      ]
    },
    {
      "cell_type": "code",
      "metadata": {
        "colab": {
          "base_uri": "https://localhost:8080/",
          "height": 286
        },
        "id": "g-Y0CQd0TFbm",
        "outputId": "31732a3a-7d7f-4868-9c44-db01e582bca5"
      },
      "source": [
        "x_s = (A/2)[:,0]\r\n",
        "y_s = (A/2)[:,1]\r\n",
        "plt.plot(x_s, y_s)\r\n",
        "plt.ylim([-200, 200])\r\n",
        "plt.xlim([-200, 200])"
      ],
      "execution_count": 164,
      "outputs": [
        {
          "output_type": "execute_result",
          "data": {
            "text/plain": [
              "(-200.0, 200.0)"
            ]
          },
          "metadata": {
            "tags": []
          },
          "execution_count": 164
        },
        {
          "output_type": "display_data",
          "data": {
            "image/png": "[encoded data removed]",
            "text/plain": [
              "<Figure size 432x288 with 1 Axes>"
            ]
          },
          "metadata": {
            "tags": [],
            "needs_background": "light"
          }
        }
      ]
    },
    {
      "cell_type": "markdown",
      "metadata": {
        "id": "sk3_zyiTTpzh"
      },
      "source": [
        "**угол (по оси y)**"
      ]
    },
    {
      "cell_type": "code",
      "metadata": {
        "id": "vgJtLUO6QBHm"
      },
      "source": [
        "R = np.array([[math.cos(130), 0, math.sin(130)], [0, 1, 0], [-(math.sin(130)), 0, math.cos(130)]])"
      ],
      "execution_count": 155,
      "outputs": []
    },
    {
      "cell_type": "code",
      "metadata": {
        "colab": {
          "base_uri": "https://localhost:8080/"
        },
        "id": "ucIXPnq1SbPw",
        "outputId": "e045dc54-aa90-4bae-a7b2-38acfd944745"
      },
      "source": [
        "A@R"
      ],
      "execution_count": 157,
      "outputs": [
        {
          "output_type": "execute_result",
          "data": {
            "text/plain": [
              "array([[  37.659239  , -100.        ,   92.64330369],\n",
              "       [  37.659239  ,  100.        ,   92.64330369],\n",
              "       [ -35.7990271 ,  100.        ,  -93.37788635],\n",
              "       [   0.93010595,    0.        ,   -0.36729133],\n",
              "       [ -35.7990271 , -100.        ,  -93.37788635],\n",
              "       [  37.659239  , -100.        ,   92.64330369]])"
            ]
          },
          "metadata": {
            "tags": []
          },
          "execution_count": 157
        }
      ]
    },
    {
      "cell_type": "code",
      "metadata": {
        "id": "kTR3kg1TSs5V"
      },
      "source": [
        "x_r = A@R[:,0]\r\n",
        "y_r = A@R[:,1]"
      ],
      "execution_count": 160,
      "outputs": []
    },
    {
      "cell_type": "code",
      "metadata": {
        "colab": {
          "base_uri": "https://localhost:8080/",
          "height": 286
        },
        "id": "X09zOPxQSzn7",
        "outputId": "c87d6e7a-1a34-4278-c3d2-e18741f59a76"
      },
      "source": [
        "plt.plot(x_r, y_r)\r\n",
        "plt.ylim([-200, 200])\r\n",
        "plt.xlim([-200, 200])"
      ],
      "execution_count": 166,
      "outputs": [
        {
          "output_type": "execute_result",
          "data": {
            "text/plain": [
              "(-200.0, 200.0)"
            ]
          },
          "metadata": {
            "tags": []
          },
          "execution_count": 166
        },
        {
          "output_type": "display_data",
          "data": {
            "image/png": "[encoded data removed]",
            "text/plain": [
              "<Figure size 432x288 with 1 Axes>"
            ]
          },
          "metadata": {
            "tags": [],
            "needs_background": "light"
          }
        }
      ]
    },
    {
      "cell_type": "markdown",
      "metadata": {
        "id": "i-V8p3ymVOGv"
      },
      "source": [
        "**поворот (по y = x)**"
      ]
    },
    {
      "cell_type": "code",
      "metadata": {
        "id": "5MfpoKenUr9O"
      },
      "source": [
        "I = np.array([[0,1,0],\r\n",
        "       [ 1,0,0],\r\n",
        "       [ 0,0,1]])"
      ],
      "execution_count": 167,
      "outputs": []
    },
    {
      "cell_type": "code",
      "metadata": {
        "colab": {
          "base_uri": "https://localhost:8080/",
          "height": 286
        },
        "id": "fds9k4mdTxCv",
        "outputId": "89b99834-9b0b-41d1-b35e-961b7be627b2"
      },
      "source": [
        "x_i = A@I[:,0]\r\n",
        "y_i = A@I[:,1]\r\n",
        "plt.plot(x_i, y_i)\r\n",
        "plt.ylim([-200, 200])\r\n",
        "plt.xlim([-200, 200])"
      ],
      "execution_count": 168,
      "outputs": [
        {
          "output_type": "execute_result",
          "data": {
            "text/plain": [
              "(-200.0, 200.0)"
            ]
          },
          "metadata": {
            "tags": []
          },
          "execution_count": 168
        },
        {
          "output_type": "display_data",
          "data": {
            "image/png": "[encoded data removed]",
            "text/plain": [
              "<Figure size 432x288 with 1 Axes>"
            ]
          },
          "metadata": {
            "tags": [],
            "needs_background": "light"
          }
        }
      ]
    },
    {
      "cell_type": "markdown",
      "metadata": {
        "id": "yM6wXDYlaOoF"
      },
      "source": [
        "**смещение и масштабирование**"
      ]
    },
    {
      "cell_type": "code",
      "metadata": {
        "colab": {
          "base_uri": "https://localhost:8080/",
          "height": 286
        },
        "id": "QGpeeOE4Y_Gw",
        "outputId": "a1522075-c44d-4a96-dcf3-9e47e141c4f6"
      },
      "source": [
        "x0 = ((A+200)*0.5)[:,0]\r\n",
        "y0 = ((A+300)*1.2)[:,1]\r\n",
        "\r\n",
        "plt.plot(x0, y0)\r\n",
        "plt.ylim([-200, 600])\r\n",
        "plt.xlim([-200, 600])"
      ],
      "execution_count": 204,
      "outputs": [
        {
          "output_type": "execute_result",
          "data": {
            "text/plain": [
              "(-200.0, 600.0)"
            ]
          },
          "metadata": {
            "tags": []
          },
          "execution_count": 204
        },
        {
          "output_type": "display_data",
          "data": {
            "image/png": "[encoded data removed]",
            "text/plain": [
              "<Figure size 432x288 with 1 Axes>"
            ]
          },
          "metadata": {
            "tags": [],
            "needs_background": "light"
          }
        }
      ]
    }
  ]
}