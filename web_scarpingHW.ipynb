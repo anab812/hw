{
  "nbformat": 4,
  "nbformat_minor": 0,
  "metadata": {
    "colab": {
      "name": "web-scarpingHW.ipynb",
      "provenance": []
    },
    "kernelspec": {
      "name": "python3",
      "display_name": "Python 3"
    }
  },
  "cells": [
    {
      "cell_type": "code",
      "metadata": {
        "id": "R0Jc_SH93tzB"
      },
      "source": [
        "import requests\r\n",
        "import re\r\n",
        "import datetime\r\n",
        "import pandas as pd\r\n",
        "from bs4 import BeautifulSoup as bs\r\n",
        "import lxml"
      ],
      "execution_count": 1,
      "outputs": []
    },
    {
      "cell_type": "code",
      "metadata": {
        "id": "P5-xoOJf35U9"
      },
      "source": [
        "def record_data(html_block, dataframe):\r\n",
        "  if type(html_block) is not str:\r\n",
        "        new_soup = html_block.parent.parent\r\n",
        "\r\n",
        "        # titles_n = []\r\n",
        "        # post_dates = []\r\n",
        "        # links = []\r\n",
        "        dataframe.titles_n = []\r\n",
        "        dataframe.links = []\r\n",
        "        dataframe.post_dates = []\r\n",
        "\r\n",
        "\r\n",
        "        title_n = new_soup.find('a', {'class': 'post__title_link'})\r\n",
        "        print(title_n)\r\n",
        "        dataframe.titles_n.append(title_n.text)\r\n",
        "       \r\n",
        "        dataframe.links.append(title_n.get('href'))\r\n",
        "\r\n",
        "        post_date = new_soup.find('span', {'class': 'post__time'})\r\n",
        "\r\n",
        "        if 'сегодня в ' in post_date.text:\r\n",
        "          p = post_date.text.strip('сегодня в ')\r\n",
        "          dataframe.post_dates.append(str(datetime.date.today()) + ' ' + p)\r\n",
        "        else:\r\n",
        "          dataframe.post_dates.append(post_date)\r\n",
        "\r\n"
      ],
      "execution_count": 2,
      "outputs": []
    },
    {
      "cell_type": "code",
      "metadata": {
        "id": "VHRhegE037jd"
      },
      "source": [
        "html = requests.get('https://habr.com/ru/all/').text"
      ],
      "execution_count": 3,
      "outputs": []
    },
    {
      "cell_type": "code",
      "metadata": {
        "id": "XNlZrNi83_jt"
      },
      "source": [
        "keywords = ['python']"
      ],
      "execution_count": 10,
      "outputs": []
    },
    {
      "cell_type": "code",
      "metadata": {
        "id": "ibFP5JIz4CEU"
      },
      "source": [
        "soup = bs(html, 'lxml')"
      ],
      "execution_count": 11,
      "outputs": []
    },
    {
      "cell_type": "code",
      "metadata": {
        "colab": {
          "base_uri": "https://localhost:8080/",
          "height": 80
        },
        "id": "Ua_8ojCQ4Fk9",
        "outputId": "03542dfa-c20a-4497-d7c6-0ccb8041bd2b"
      },
      "source": [
        "preview = soup.find_all('div', {'class': 'post__text'})\r\n",
        "titles = []\r\n",
        "post_dates = []\r\n",
        "links = []\r\n",
        "\r\n",
        "for p in preview: \r\n",
        "  p_lower = p.text.lower() \r\n",
        "  for p_l in p_lower.replace('.',' ').replace(',',' ').split(): \r\n",
        "\r\n",
        "    if p_l in keywords:\r\n",
        "      search_area = p.parent.parent\r\n",
        "      title = search_area.find_all('a', {'class': 'post__title_link'})\r\n",
        "      \r\n",
        "      for t in title:\r\n",
        "        titles.append(t.text)\r\n",
        "        \r\n",
        "      post_date = search_area.find_all('span', {'class': 'post__time'})\r\n",
        "      \r\n",
        "      for d in post_date:\r\n",
        "        if 'сегодня в ' in d.text:\r\n",
        "          d = d.text.strip('сегодня в ')\r\n",
        "          post_dates.append(str(datetime.date.today()) + ' ' + d)\r\n",
        "        else:\r\n",
        "          post_dates.append(d)\r\n",
        "\r\n",
        "      for l in title:\r\n",
        "        links.append(l.get('href'))\r\n",
        "        \r\n",
        "  selected_posts = {'titles': titles, \r\n",
        "        'links': links, \r\n",
        "        'dates': post_dates} \r\n",
        "selected_posts = pd.DataFrame(selected_posts)\r\n",
        "selected_posts.head()      \r\n",
        "\r\n"
      ],
      "execution_count": 12,
      "outputs": [
        {
          "output_type": "execute_result",
          "data": {
            "text/html": [
              "<div>\n",
              "<style scoped>\n",
              "    .dataframe tbody tr th:only-of-type {\n",
              "        vertical-align: middle;\n",
              "    }\n",
              "\n",
              "    .dataframe tbody tr th {\n",
              "        vertical-align: top;\n",
              "    }\n",
              "\n",
              "    .dataframe thead th {\n",
              "        text-align: right;\n",
              "    }\n",
              "</style>\n",
              "<table border=\"1\" class=\"dataframe\">\n",
              "  <thead>\n",
              "    <tr style=\"text-align: right;\">\n",
              "      <th></th>\n",
              "      <th>titles</th>\n",
              "      <th>links</th>\n",
              "      <th>dates</th>\n",
              "    </tr>\n",
              "  </thead>\n",
              "  <tbody>\n",
              "    <tr>\n",
              "      <th>0</th>\n",
              "      <td>Big Data Tools EAP 12: экспериментальная подде...</td>\n",
              "      <td>https://habr.com/ru/company/JetBrains/blog/533...</td>\n",
              "      <td>2020-12-16 17:10</td>\n",
              "    </tr>\n",
              "  </tbody>\n",
              "</table>\n",
              "</div>"
            ],
            "text/plain": [
              "                                              titles  ...             dates\n",
              "0  Big Data Tools EAP 12: экспериментальная подде...  ...  2020-12-16 17:10\n",
              "\n",
              "[1 rows x 3 columns]"
            ]
          },
          "metadata": {
            "tags": []
          },
          "execution_count": 12
        }
      ]
    },
    {
      "cell_type": "code",
      "metadata": {
        "id": "tMMx1khcqNyj"
      },
      "source": [
        ""
      ],
      "execution_count": 6,
      "outputs": []
    }
  ]
}