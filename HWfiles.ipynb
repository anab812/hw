{
 "cells": [
  {
   "cell_type": "code",
   "execution_count": null,
   "metadata": {},
   "outputs": [],
   "source": [
    "import json\n",
    "\n",
    "f = open('purchase_log.txt', 'r', encoding='utf-8')\n",
    "y = []\n",
    "for x in f:\n",
    "    if x not in  y:\n",
    "        x1 = json.loads(x)\n",
    "        y.append(x1)\n",
    "        \n",
    "m = []\n",
    "for v in y:\n",
    "    for v1 in v.values():\n",
    "        m.append(v1)\n",
    "purch_dict = dict(zip(m[::2], m[1::2]))\n",
    "print(purch_dict)"
   ]
  },
  {
   "cell_type": "code",
   "execution_count": null,
   "metadata": {},
   "outputs": [],
   "source": [
    "product_names = []\n",
    "for v in purch_dict.items():\n",
    "    if v not in product_names:\n",
    "        product_names.append(v)\n",
    "print(product_names)"
   ]
  },
  {
   "cell_type": "code",
   "execution_count": null,
   "metadata": {},
   "outputs": [],
   "source": [
    "import csv\n",
    "b = open('visit_log.csv', 'r', encoding='utf-8')\n",
    "\n",
    "with open('funnel.csv', 'w', encoding='utf-8') as c:\n",
    "    for line, p_n in zip(b, product_names):\n",
    "        if p_n[0] == line[0:9]:\n",
    "            wr = csv.writer(c)\n",
    "            wr.writerows([(line, p_n) for i in range(len(line))])\n",
    "    \n"
   ]
  },
  {
   "cell_type": "code",
   "execution_count": null,
   "metadata": {},
   "outputs": [],
   "source": []
  },
  {
   "cell_type": "code",
   "execution_count": null,
   "metadata": {},
   "outputs": [],
   "source": []
  }
 ],
 "metadata": {
  "kernelspec": {
   "display_name": "Python 3",
   "language": "python",
   "name": "python3"
  },
  "language_info": {
   "codemirror_mode": {
    "name": "ipython",
    "version": 3
   },
   "file_extension": ".py",
   "mimetype": "text/x-python",
   "name": "python",
   "nbconvert_exporter": "python",
   "pygments_lexer": "ipython3",
   "version": "3.8.3"
  }
 },
 "nbformat": 4,
 "nbformat_minor": 4
}
