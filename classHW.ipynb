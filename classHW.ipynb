{
  "nbformat": 4,
  "nbformat_minor": 0,
  "metadata": {
    "colab": {
      "name": "classHW.ipynb",
      "provenance": []
    },
    "kernelspec": {
      "name": "python3",
      "display_name": "Python 3"
    }
  },
  "cells": [
    {
      "cell_type": "code",
      "metadata": {
        "id": "zB1Zcfm0vG_X",
        "outputId": "6652e351-c074-402e-cab4-65d264c9117c",
        "colab": {
          "base_uri": "https://localhost:8080/"
        }
      },
      "source": [
        "import requests\n",
        "import operator\n",
        "\n",
        "full_data = requests.get('https://www.cbr-xml-daily.ru/daily_json.js').json()\n",
        "\n",
        "def max_rate():\n",
        "  currencies = {}\n",
        "  x = {}\n",
        "  currencies = full_data['Valute']\n",
        "  for v in currencies.values():\n",
        "    x[v.get('Name')] =  v.get('Value')\n",
        "  return max(x.items(), key=operator.itemgetter(1))[0]  \n",
        "print(f'Валюта с максимальным значением курса это {max_rate()}')\n",
        "\n",
        "class Rate:\n",
        "    def __init__(self, format_='value', diff=False):\n",
        "        self.format = format_\n",
        "        self.diff = diff\n",
        "    \n",
        "    def exchange_rates(self):\n",
        "        \"\"\"\n",
        "        Возвращает ответ сервиса с информацией о валютах в виде:\n",
        "        \n",
        "        {\n",
        "            'AMD': {\n",
        "                'CharCode': 'AMD',\n",
        "                'ID': 'R01060',\n",
        "                'Name': 'Армянских драмов',\n",
        "                'Nominal': 100,\n",
        "                'NumCode': '051',\n",
        "                'Previous': 14.103,\n",
        "                'Value': 14.0879\n",
        "                },\n",
        "            ...\n",
        "        }\n",
        "        \"\"\"\n",
        "        self.r = requests.get('https://www.cbr-xml-daily.ru/daily_json.js')\n",
        "        return self.r.json()['Valute']\n",
        "    \n",
        "    def make_format(self, currency):\n",
        "        \"\"\"\n",
        "        Возвращает информацию о валюте currency в двух вариантах:\n",
        "        - полная информация о валюте при self.format = 'full':\n",
        "        Rate('full').make_format('EUR')\n",
        "        {\n",
        "            'CharCode': 'EUR',\n",
        "            'ID': 'R01239',\n",
        "            'Name': 'Евро',\n",
        "            'Nominal': 1,\n",
        "            'NumCode': '978',\n",
        "            'Previous': 79.6765,\n",
        "            'Value': 79.4966\n",
        "        }\n",
        "        \n",
        "        Rate('value').make_format('EUR')\n",
        "        79.4966\n",
        "        \"\"\"\n",
        "        response = self.exchange_rates()\n",
        "        \n",
        "        if currency in response:\n",
        "            if self.format == 'full':\n",
        "                return response[currency]\n",
        "            \n",
        "            if self.format == 'value' and self.diff == True:\n",
        "              x = response[currency]['Value'] - response[currency]['Previous']\n",
        "              return abs(x)\n",
        "            if self.format == 'value':  \n",
        "              return response[currency]['Value']\n",
        "        \n",
        "        return 'Error'\n",
        "    \n",
        "    def eur(self):\n",
        "        \"\"\"Возвращает курс евро на сегодня в формате self.format\"\"\"\n",
        "        return self.make_format('EUR')\n",
        "    \n",
        "    def usd(self):\n",
        "        \"\"\"Возвращает курс доллара на сегодня в формате self.format\"\"\"\n",
        "        return self.make_format('USD')\n",
        "    \n",
        "    def brl(self):\n",
        "        \"\"\"Возвращает курс бразильского реала на сегодня в формате self.format\"\"\"\n",
        "        return self.make_format('BRL')\n",
        "\n",
        "r = Rate(format_='value', diff=True)\n",
        "r.brl()"
      ],
      "execution_count": 16,
      "outputs": [
        {
          "output_type": "stream",
          "text": [
            "Валюта с максимальным значением курса это СДР (специальные права заимствования)\n"
          ],
          "name": "stdout"
        },
        {
          "output_type": "execute_result",
          "data": {
            "text/plain": [
              "0.3030000000000008"
            ]
          },
          "metadata": {
            "tags": []
          },
          "execution_count": 16
        }
      ]
    },
    {
      "cell_type": "code",
      "metadata": {
        "id": "9bFiRIeiDTy5"
      },
      "source": [
        "class Employee:\n",
        "    def __init__(self, name, seniority, points):\n",
        "        self.name = name\n",
        "        self.seniority = seniority\n",
        "        self.points = points \n",
        "        \n",
        "        self.grade = 1\n",
        "    \n",
        "    def grade_up(self):\n",
        "        \"\"\"Повышает уровень сотрудника\"\"\"\n",
        "        self.grade += 1\n",
        "    \n",
        "    def point_upgrade(self):\n",
        "        \"\"\"Повышает уровень сотрудника, если у него накопилось 7 баллов\"\"\"\n",
        "        if points >= 7:\n",
        "          self.grade += 1\n",
        "    \n",
        "    def publish_grade(self):\n",
        "        \"\"\"Публикация результатов аккредитации сотрудников\"\"\"\n",
        "        print(self.name, self.grade)\n",
        "    \n",
        "\n",
        "class Designer(Employee):\n",
        "      def __init__(self, name, seniority, points, award = 2):\n",
        "        super().__init__(name, seniority, points)\n",
        "        self.award = award\n",
        "\n",
        "      \"\"\"переводит премии в баллы сотрудников\"\"\"\n",
        "      def award_count(self):\n",
        "        if awards > 0:\n",
        "          self.points = self.points + 2*awards\n",
        "\n"
      ],
      "execution_count": 20,
      "outputs": []
    },
    {
      "cell_type": "code",
      "metadata": {
        "id": "2VHvxEBBF-N-"
      },
      "source": [
        ""
      ],
      "execution_count": null,
      "outputs": []
    }
  ]
}