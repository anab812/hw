{
  "nbformat": 4,
  "nbformat_minor": 0,
  "metadata": {
    "colab": {
      "name": "datesHW.ipynb",
      "provenance": []
    },
    "kernelspec": {
      "name": "python3",
      "display_name": "Python 3"
    }
  },
  "cells": [
    {
      "cell_type": "code",
      "metadata": {
        "id": "EBh6X2LRIS-z",
        "outputId": "58f38a76-5cb9-4895-d8b1-107bfde858de",
        "colab": {
          "base_uri": "https://localhost:8080/"
        }
      },
      "source": [
        "import datetime\n",
        "\n",
        "x = datetime.datetime(2020, 11, 2)\n",
        "\n",
        "moscow_times = x.strftime('%A, %B %d, %Y')\n",
        "guardian = x.strftime('%A, %d.%m.%y')\n",
        "daily_news = x.strftime('%A, %d %B %Y')\n",
        "print(moscow_times)\n",
        "print(guardian)\n",
        "print(daily_news)"
      ],
      "execution_count": 2,
      "outputs": [
        {
          "output_type": "stream",
          "text": [
            "Monday, November 02, 2020\n",
            "Monday, 02.11.20\n",
            "Monday, 02 November 2020\n"
          ],
          "name": "stdout"
        }
      ]
    },
    {
      "cell_type": "code",
      "metadata": {
        "id": "ho4OaMLfM_kZ",
        "outputId": "c6753a95-d2c2-4698-baf0-ef38b6c21495",
        "colab": {
          "base_uri": "https://localhost:8080/"
        }
      },
      "source": [
        "stream = ['2018-04-06', '2018-02-3032', '2018-19-02']\n",
        "\n",
        "def check_date(data):\n",
        "  checker = None\n",
        "  for d in data:\n",
        "      try:\n",
        "        d_date = datetime.datetime.strptime(d, '%Y-%m-%d')\n",
        "        checker = True\n",
        "        print(checker)\n",
        "      except:\n",
        "        checker = False\n",
        "        print(checker)\n",
        "\n",
        "check_date(stream)\n"
      ],
      "execution_count": 43,
      "outputs": [
        {
          "output_type": "stream",
          "text": [
            "True\n",
            "False\n",
            "False\n"
          ],
          "name": "stdout"
        }
      ]
    },
    {
      "cell_type": "code",
      "metadata": {
        "id": "L7LGNkaeOUAj",
        "outputId": "50b85e56-a083-4186-ce14-39433066f883",
        "colab": {
          "base_uri": "https://localhost:8080/"
        }
      },
      "source": [
        "def date_range():\n",
        "  date_list = []\n",
        "  start_date = input('Введите начальную дату в формате YYYY-MM-DD: ')\n",
        "  end_date = input('Введите конечную дату в формате YYYY-MM-DD: ')\n",
        "  try:\n",
        "    start = datetime.datetime.strptime(start_date, '%Y-%m-%d')\n",
        "    end = datetime.datetime.strptime(end_date, '%Y-%m-%d')\n",
        "    step = datetime.timedelta(days=1)\n",
        "    if start < end:\n",
        "      while start <= end:\n",
        "        print(start.date())\n",
        "        start += step\n",
        "    else:\n",
        "        print(date_list)\n",
        "  except:\n",
        "    print(date_list)\n",
        "date_range()"
      ],
      "execution_count": 72,
      "outputs": [
        {
          "output_type": "stream",
          "text": [
            "Введите начальную дату в формате YYYY-MM-DD: 19999\n",
            "Введите конечную дату в формате YYYY-MM-DD: 19-25-22\n",
            "[]\n"
          ],
          "name": "stdout"
        }
      ]
    },
    {
      "cell_type": "code",
      "metadata": {
        "id": "Wlp8KahQPket"
      },
      "source": [
        "\n"
      ],
      "execution_count": null,
      "outputs": []
    },
    {
      "cell_type": "code",
      "metadata": {
        "id": "f_g_9pqOQQ-f"
      },
      "source": [
        ""
      ],
      "execution_count": 43,
      "outputs": []
    },
    {
      "cell_type": "code",
      "metadata": {
        "id": "ia0zl2Z_Ram4"
      },
      "source": [
        "\n"
      ],
      "execution_count": 43,
      "outputs": []
    }
  ]
}