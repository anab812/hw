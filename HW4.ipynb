{
  "nbformat": 4,
  "nbformat_minor": 0,
  "metadata": {
    "colab": {
      "name": "HW4.ipynb",
      "provenance": [],
      "collapsed_sections": []
    },
    "kernelspec": {
      "name": "python3",
      "display_name": "Python 3"
    }
  },
  "cells": [
    {
      "cell_type": "markdown",
      "metadata": {
        "id": "XeMigek2wQVH",
        "colab_type": "text"
      },
      "source": [
        "**Задание 1**"
      ]
    },
    {
      "cell_type": "code",
      "metadata": {
        "id": "vxeJZfZQwPm2",
        "colab_type": "code",
        "colab": {
          "base_uri": "https://localhost:8080/",
          "height": 34
        },
        "outputId": "db4b21dd-3967-4e7c-c4a6-f25981bcf90f"
      },
      "source": [
        "new_list = []\n",
        "unique = []\n",
        "ids = {\"user1\": [213, 213, 213, 15, 213],\n",
        "\"user2\": [54, 54, 119, 119, 119],\n",
        "\"user3\": [213, 98, 98, 35]}\n",
        "for n in ids.values():\n",
        "    new_list.extend(n)\n",
        "for m in new_list:\n",
        "  if m not in unique:\n",
        "    unique.append(m)\n",
        "print(unique)"
      ],
      "execution_count": null,
      "outputs": [
        {
          "output_type": "stream",
          "text": [
            "[213, 15, 54, 119, 98, 35]\n"
          ],
          "name": "stdout"
        }
      ]
    },
    {
      "cell_type": "markdown",
      "metadata": {
        "id": "isWig7L1v1Ca",
        "colab_type": "text"
      },
      "source": [
        "**Задание 2**"
      ]
    },
    {
      "cell_type": "code",
      "metadata": {
        "id": "030p61U3v1nV",
        "colab_type": "code",
        "colab": {
          "base_uri": "https://localhost:8080/",
          "height": 51
        },
        "outputId": "c8f03156-5dde-40b7-ea05-183230473a3f"
      },
      "source": [
        "\n",
        "queries = [\n",
        "\"смотреть сериалы онлайн\",\n",
        "\"новости спорта\",\n",
        "\"афиша кино\",\n",
        "\"курс доллара\",\n",
        "\"сериалы этим летом\",\n",
        "\"курс по питону\",\n",
        "\"сериалы про спорт\",\n",
        "]\n",
        "elements = []\n",
        "category = {}\n",
        "\n",
        "# считает сколько слов в каждой фразе по количеству пробелов\n",
        "i = 0\n",
        "while i < len(queries):\n",
        "  elements == elements.append(queries[i].count(\" \")+1) \n",
        "  i += 1\n",
        "\n",
        "# создает словарь с категорией количества слов в качестве ключа и суммой \n",
        "# элементов по каждой категории в качестве значения\n",
        "for n in elements:\n",
        "  i = 1\n",
        "  if n not in category:\n",
        "    category[n] = i\n",
        "  else: category[n] = elements.count(n)\n",
        "\n",
        "# выводит процент \n",
        "for x in category:\n",
        "  print(f'Поисковых запросов, содержащих {x} слов(а): {round((category[x] / len(queries)) * 100, 2)} %')"
      ],
      "execution_count": 87,
      "outputs": [
        {
          "output_type": "stream",
          "text": [
            "Поисковых запросов, содержащих 3 слов(а): 57.14 %\n",
            "Поисковых запросов, содержащих 2 слов(а): 42.86 %\n"
          ],
          "name": "stdout"
        }
      ]
    },
    {
      "cell_type": "markdown",
      "metadata": {
        "id": "Y6iKPISFtVJB",
        "colab_type": "text"
      },
      "source": [
        "**Задание 3**"
      ]
    },
    {
      "cell_type": "code",
      "metadata": {
        "id": "SXj3eDvatcuP",
        "colab_type": "code",
        "colab": {
          "base_uri": "https://localhost:8080/",
          "height": 442
        },
        "outputId": "6a72e00d-d692-4dec-e844-0d5f2750dad3"
      },
      "source": [
        "results = {\n",
        "'vk': {'revenue': 103, 'cost': 98},\n",
        "'yandex': {'revenue': 179, 'cost': 153},\n",
        "'facebook': {'revenue': 103, 'cost': 110},\n",
        "'adwords': {'revenue': 35, 'cost': 34},\n",
        "'twitter': {'revenue': 11, 'cost': 24},\n",
        "}\n",
        "\n",
        "for source, param in results.items(): \n",
        "  print(\"\\nSource:\", source)\n",
        "  results[source][\"ROI\"] = round((results[source]['revenue'] / results[source]['cost'] - 1) * 100, 2)\n",
        "  for x in param:\n",
        "    print(x + ':', param[x])"
      ],
      "execution_count": 115,
      "outputs": [
        {
          "output_type": "stream",
          "text": [
            "\n",
            "Source: vk\n",
            "revenue: 103\n",
            "cost: 98\n",
            "ROI: 5.1\n",
            "\n",
            "Source: yandex\n",
            "revenue: 179\n",
            "cost: 153\n",
            "ROI: 16.99\n",
            "\n",
            "Source: facebook\n",
            "revenue: 103\n",
            "cost: 110\n",
            "ROI: -6.36\n",
            "\n",
            "Source: adwords\n",
            "revenue: 35\n",
            "cost: 34\n",
            "ROI: 2.94\n",
            "\n",
            "Source: twitter\n",
            "revenue: 11\n",
            "cost: 24\n",
            "ROI: -54.17\n"
          ],
          "name": "stdout"
        }
      ]
    },
    {
      "cell_type": "markdown",
      "metadata": {
        "id": "w51rqz6S1xbB",
        "colab_type": "text"
      },
      "source": [
        "**Задание 4**"
      ]
    },
    {
      "cell_type": "code",
      "metadata": {
        "id": "MUoZpjih10P9",
        "colab_type": "code",
        "colab": {
          "base_uri": "https://localhost:8080/",
          "height": 34
        },
        "outputId": "6b9704c2-5dab-4b0b-d794-d58f38cddd43"
      },
      "source": [
        "stats = {'facebook': 55, 'yandex': 115, 'vk': 120, 'google': 99, 'email': 42, 'ok': 98}\n",
        "\n",
        "for channel, value in stats.items():\n",
        "  if value == max(stats.values()):\n",
        "    print(f'Максимальный объем продаж на рекламном канале: {channel}')"
      ],
      "execution_count": 139,
      "outputs": [
        {
          "output_type": "stream",
          "text": [
            "Максимальный объем продаж на рекламном канале: vk\n"
          ],
          "name": "stdout"
        }
      ]
    }
  ]
}